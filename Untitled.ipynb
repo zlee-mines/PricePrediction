{
 "cells": [
  {
   "cell_type": "code",
   "execution_count": 2,
   "id": "smoking-wallace",
   "metadata": {},
   "outputs": [],
   "source": [
    "import tensorflow as tf\n",
    "import numpy as np\n",
    "import pandas as pd\n",
    "from tensorflow.keras.layers import LSTM, Embedding, Dense, Dropout, Activation\n",
    "from tensorflow.keras.losses import BinaryCrossentropy\n",
    "from math import log, log10\n",
    "import matplotlib.pyplot as plt\n",
    "import math\n",
    "from get_data import get_btc_prices, get_tweets_df\n",
    "import datetime"
   ]
  },
  {
   "cell_type": "code",
   "execution_count": 19,
   "id": "generic-packing",
   "metadata": {},
   "outputs": [
    {
     "data": {
      "text/plain": [
       "RangeIndex(start=0, stop=4727777, step=1)"
      ]
     },
     "execution_count": 19,
     "metadata": {},
     "output_type": "execute_result"
    }
   ],
   "source": [
    "tweets = get_tweets_df()\n",
    "prices = get_btc_prices(tweets.index[0], tweets.index[-1])\n",
    "\n",
    "prices = prices[datetime.datetime(2017, 1, 1):]\n",
    "data = prices.merge(tweets, left_index=True, right_index=True)\n",
    "data.columns[0]\n",
    "\n",
    "other_df = pd.read_csv('bitstampUSD_1.csv')\n",
    "other_df.index"
   ]
  },
  {
   "cell_type": "code",
   "execution_count": 20,
   "id": "miniature-school",
   "metadata": {},
   "outputs": [],
   "source": [
    "#price_std = np.std(data['price'])\n",
    "#price_mean = np.mean(data['price'])\n",
    "#data['price'] = (data['price'] - price_mean) / price_std\n",
    "\n",
    "#tweets_std = np.std(data['tweets'])\n",
    "#tweets_mean = np.mean(data['tweets'])\n",
    "#data['tweets'] = (data['tweets'] - tweets_mean) / tweets_std\n",
    "\n",
    "data['tweets'] = data['tweets'].apply(lambda x: log(x, 8))\n",
    "data['price'] = data['price'].apply(lambda x: log(x, 8))\n",
    "\n",
    "\n",
    "\n",
    "other_data = np.array(other_df['Close'])\n",
    "\n",
    "for i in range(len(other_data)):\n",
    "    if np.isnan(other_data[i]):\n",
    "        other_data[i] = other_data[i-1]\n",
    "        \n",
    "other_data = np.array([log(x, 8) for x in other_data])"
   ]
  },
  {
   "cell_type": "code",
   "execution_count": 21,
   "id": "civil-thumbnail",
   "metadata": {},
   "outputs": [
    {
     "data": {
      "text/plain": [
       "[<matplotlib.lines.Line2D at 0x7fc533b62cd0>]"
      ]
     },
     "execution_count": 21,
     "metadata": {},
     "output_type": "execute_result"
    },
    {
     "data": {
      "image/png": "[encoded data removed]",
      "text/plain": [
       "<Figure size 432x288 with 1 Axes>"
      ]
     },
     "metadata": {
      "needs_background": "light"
     },
     "output_type": "display_data"
    }
   ],
   "source": [
    "#plt.plot(data['price'])\n",
    "#plt.plot(data['tweets'])\n",
    "\n",
    "\n",
    "sequence = other_data[int(2.5*10**6):]\n",
    "plt.plot(sequence)\n"
   ]
  },
  {
   "cell_type": "code",
   "execution_count": 22,
   "id": "equivalent-advice",
   "metadata": {},
   "outputs": [],
   "source": [
    "def make_windows(seq, past, future=1):\n",
    "    features = []\n",
    "    labels = []\n",
    "    #sequence = [[1]*len(seq[0])]\n",
    "    sequence=seq\n",
    "    '''\n",
    "    for i in range(len(seq)-1):\n",
    "        new_row = []\n",
    "        for n in range(len(seq[i])):\n",
    "            #if seq[i+1][n] > seq[i][n]:\n",
    "            #    new_row.append(1)\n",
    "            #else:\n",
    "            #    new_row.append(0)\n",
    "            new_row.append(seq[i+1][n]/seq[i][n])\n",
    "        sequence.append(new_row)\n",
    "        '''\n",
    "    #print(sequence)    \n",
    "    for i in range(len(sequence) - past - future):\n",
    "        features.append(sequence[i:i+past])\n",
    "        labels.append(sequence[i+past+future-1])\n",
    "    return np.array(features), np.array(labels)"
   ]
  },
  {
   "cell_type": "code",
   "execution_count": null,
   "id": "characteristic-folder",
   "metadata": {},
   "outputs": [],
   "source": [
    "n_steps = 72\n",
    "n_features = 1\n",
    "\n",
    "split = int(len(sequence) * (7/8))\n",
    "\n",
    "train_data = sequence[:split]\n",
    "test_data = sequence[split:]\n",
    "\n",
    "train_X, train_y = make_windows(train_data, n_steps, 24)\n",
    "test_X, test_y = make_windows(test_data, n_steps, 24)\n",
    "train_X"
   ]
  },
  {
   "cell_type": "code",
   "execution_count": null,
   "id": "medical-sierra",
   "metadata": {},
   "outputs": [],
   "source": [
    "inputs = tf.keras.layers.Input(shape=(n_steps, n_features))\n",
    "lstm_out = LSTM(7)(inputs)\n",
    "l1 = Dense(5, activation='relu')(lstm_out)\n",
    "l2 = Dense(5, activation='relu')(l1)\n",
    "outputs = Dense(1)(l2)\n",
    "\n",
    "model = tf.keras.Model(inputs=inputs, outputs=outputs)\n",
    "model.compile(optimizer='adam', loss='mean_squared_error')"
   ]
  },
  {
   "cell_type": "code",
   "execution_count": null,
   "id": "alternative-ticket",
   "metadata": {},
   "outputs": [],
   "source": [
    "model.fit(np.concatenate((train_X, test_X)), np.concatenate((train_y,test_y)), epochs=100)"
   ]
  },
  {
   "cell_type": "code",
   "execution_count": null,
   "id": "amber-pioneer",
   "metadata": {},
   "outputs": [],
   "source": [
    "#fig, axs = plt.subplots(10, sharex=False, sharey=False)\n",
    "pred = model.predict(test_X)\n",
    "\"\"\"\n",
    "for n in range(10):\n",
    "    axs[n].plot(test_y[n*10:n*10+10])\n",
    "    axs[n].plot(pred[n*10:n*10+10])\n",
    "\"\"\"\n",
    "plt.plot([8**y for y in test_y])\n",
    "plt.plot([8**y for y in pred])\n",
    "\n",
    "model.evaluate(test_X, test_y)"
   ]
  }
 ],
 "metadata": {
  "kernelspec": {
   "display_name": "Python 3",
   "language": "python",
   "name": "python3"
  },
  "language_info": {
   "codemirror_mode": {
    "name": "ipython",
    "version": 3
   },
   "file_extension": ".py",
   "mimetype": "text/x-python",
   "name": "python",
   "nbconvert_exporter": "python",
   "pygments_lexer": "ipython3",
   "version": "3.8.0"
  }
 },
 "nbformat": 4,
 "nbformat_minor": 5
}
