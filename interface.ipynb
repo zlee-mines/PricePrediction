{
 "cells": [
  {
   "cell_type": "code",
   "execution_count": 6,
   "id": "99e10977",
   "metadata": {},
   "outputs": [],
   "source": [
    "import ipywidgets as widgets\n",
    "import matplotlib.pyplot as plt\n",
    "import pandas as pd\n",
    "import numpy as np\n",
    "from tensorflow import keras\n",
    "import os\n",
    "from main import make_model, train_model, get_week, normalize, percentages, binary_increase\n",
    "from math import log\n",
    "import datetime\n",
    "from IPython.display import display\n",
    "%matplotlib widget"
   ]
  },
  {
   "cell_type": "code",
   "execution_count": 2,
   "id": "8b1983a4",
   "metadata": {},
   "outputs": [],
   "source": [
    "normal_model = []\n",
    "percentage_model = []\n",
    "binary_model = []\n",
    "\n",
    "if os.path.exists('normal_model.keras'):\n",
    "    normal_model = keras.models.load_model('normal_model.keras')\n",
    "else:\n",
    "    normal_model = make_model('linear')\n",
    "    train_model(normal_model, 'normal')\n",
    "    normal_model.save('normal_model.keras')\n",
    "    \n",
    "if os.path.exists('percentage_model.keras'):\n",
    "    percentage_model = keras.models.load_model('percentage_model.keras')\n",
    "else:\n",
    "    percentage_model = make_model('linear')\n",
    "    train_model(percentage_model, 'percentage')\n",
    "    percentage_model.save('percentage_model.keras')\n",
    "    \n",
    "if os.path.exists('binary_model.keras'):\n",
    "    binary_model = keras.models.load_model('binary_model.keras')\n",
    "else:\n",
    "    binary_model = make_model('sigmoid')\n",
    "    train_model(binary_model, 'binary')\n",
    "    binary_model.save('binary_model.keras')"
   ]
  },
  {
   "cell_type": "code",
   "execution_count": 3,
   "id": "096717a7",
   "metadata": {},
   "outputs": [],
   "source": [
    "normal_data = get_week()\n",
    "for col in normal_data.columns:\n",
    "    normal_data[col] = normalize(normal_data[col], lambda x:  log(x, 8))\n",
    "normal_data = normal_data[['tweets', 'price']].to_numpy()\n",
    "\n",
    "percentage_data = get_week()\n",
    "for col in percentage_data.columns:\n",
    "    percentage_data[col] = percentages(percentage_data[col])\n",
    "percentage_data = percentage_data[['tweets', 'price']].to_numpy()\n",
    "\n",
    "binary_data = get_week()\n",
    "for col in binary_data.columns:\n",
    "    binary_data[col] = binary_increase(binary_data[col])\n",
    "binary_data = binary_data[['tweets', 'price']].to_numpy()"
   ]
  },
  {
   "cell_type": "markdown",
   "id": "2c4e8dd6",
   "metadata": {},
   "source": [
    "# Bitcoin Price Forecast"
   ]
  },
  {
   "cell_type": "code",
   "execution_count": 34,
   "id": "2a5ff7b2",
   "metadata": {},
   "outputs": [
    {
     "name": "stdout",
     "output_type": "stream",
     "text": [
      "WARNING:tensorflow:7 out of the last 21 calls to <function Model.make_predict_function.<locals>.predict_function at 0x7f4ee5a554c0> triggered tf.function retracing. Tracing is expensive and the excessive number of tracings could be due to (1) creating @tf.function repeatedly in a loop, (2) passing tensors with different shapes, (3) passing Python objects instead of tensors. For (1), please define your @tf.function outside of the loop. For (2), @tf.function has experimental_relax_shapes=True option that relaxes argument shapes that can avoid unnecessary retracing. For (3), please refer to https://www.tensorflow.org/guide/function#controlling_retracing and https://www.tensorflow.org/api_docs/python/tf/function for  more details.\n"
     ]
    },
    {
     "data": {
      "application/vnd.jupyter.widget-view+json": {
       "model_id": "3d933e38e4f0459486e2f9723fd1668b",
       "version_major": 2,
       "version_minor": 0
      },
      "text/plain": [
       "Label(value='How many days to predict?')"
      ]
     },
     "metadata": {},
     "output_type": "display_data"
    },
    {
     "data": {
      "application/vnd.jupyter.widget-view+json": {
       "model_id": "1b64892f621c433d8d3df69af79a9bc2",
       "version_major": 2,
       "version_minor": 0
      },
      "text/plain": [
       "IntSlider(value=1, max=7, min=1)"
      ]
     },
     "metadata": {},
     "output_type": "display_data"
    },
    {
     "data": {
      "application/vnd.jupyter.widget-view+json": {
       "model_id": "dc92c3a4e1f84a64875207c35700a6b7",
       "version_major": 2,
       "version_minor": 0
      },
      "text/plain": [
       "Button(description='Predict', style=ButtonStyle())"
      ]
     },
     "metadata": {},
     "output_type": "display_data"
    }
   ],
   "source": [
    "actual_data = get_week()\n",
    "price_predictor = make_model('linear')\n",
    "price_predictor.set_weights(normal_model.get_weights())\n",
    "pred_price = price_predictor.predict(np.array([normal_data,]))\n",
    "pred_price = 8**pred_price[0][0]\n",
    "pred_df = pd.DataFrame()\n",
    "pred_df['date'] = [actual_data.index[-1], actual_data.index[-1] + datetime.timedelta(days=1)]\n",
    "pred_df['price'] = [actual_data['price'][actual_data.index[-1]], pred_price]\n",
    "pred_df.set_index('date', inplace=True)\n",
    "plt.plot(actual_data['price'], label='Actual')\n",
    "\n",
    "plt.plot(pred_df['price'], label='Predicted')\n",
    "plt.legend()\n",
    "plt.xlabel('Date')\n",
    "plt.ylabel('BTC Price ($)')\n",
    "label1 = widgets.Label(value='How many days to predict?')\n",
    "display(label1)\n",
    "days = widgets.IntSlider(min=1, max=7)\n",
    "display(days)\n",
    "compute = widgets.Button(description='Predict')\n",
    "\n",
    "new_data = actual_data.copy()\n",
    "new_data['price'] = normalize(new_data['price'], lambda x: log(x, 8))\n",
    "new_data['tweets'] = normalize(new_data['tweets'], lambda x: log(x, 8))\n",
    "#new_data.drop(actual_data.index[0], inplace=True)\n",
    "#new_data.loc[new_data.index[-1] + datetime.timedelta(days=1)] = {'price': log(pred_price, 8), 'tweets': new_data['tweets'][new_data.index[-1]]}\n",
    "\n",
    "def on_predict(b):\n",
    "    new_data = actual_data.copy()\n",
    "    new_data['price'] = normalize(new_data['price'], lambda x: log(x, 8))\n",
    "    new_data['tweets'] = normalize(new_data['tweets'], lambda x: log(x, 8))\n",
    "    for i in range(days.value):\n",
    "        pred_price = price_predictor.predict(np.array([new_data[['tweets', 'price']].to_numpy()]))\n",
    "        pred_price = 8**pred_price[0][0]\n",
    "        pred_df.loc[actual_data.index[-1] + datetime.timedelta(days=i+1)] = {'price': pred_price}\n",
    "        new_data.drop(new_data.index[0], inplace=True)\n",
    "        new_data.loc[actual_data.index[-1] + datetime.timedelta(days=i+1)] = {'price': log(pred_price, 8), 'tweets': new_data['tweets'][new_data.index[-1]]} \n",
    "    plt.plot(pred_df['price'], color='orange')\n",
    "        \n",
    "compute.on_click(on_predict)\n",
    "display(compute)\n",
    "\n",
    "\n",
    "\n",
    "#pred_df[['price', 'tweets']]"
   ]
  },
  {
   "cell_type": "code",
   "execution_count": 41,
   "id": "3cb18381",
   "metadata": {},
   "outputs": [
    {
     "data": {
      "application/vnd.jupyter.widget-view+json": {
       "model_id": "0c9b8462e2f1473087fe85b98e9a11de",
       "version_major": 2,
       "version_minor": 0
      },
      "text/plain": [
       "Label(value='The predicted positive or negative outlook based on the binary model is:')"
      ]
     },
     "metadata": {},
     "output_type": "display_data"
    },
    {
     "name": "stdout",
     "output_type": "stream",
     "text": [
      "WARNING:tensorflow:11 out of the last 13 calls to <function Model.make_predict_function.<locals>.predict_function at 0x7f4ee5d83af0> triggered tf.function retracing. Tracing is expensive and the excessive number of tracings could be due to (1) creating @tf.function repeatedly in a loop, (2) passing tensors with different shapes, (3) passing Python objects instead of tensors. For (1), please define your @tf.function outside of the loop. For (2), @tf.function has experimental_relax_shapes=True option that relaxes argument shapes that can avoid unnecessary retracing. For (3), please refer to https://www.tensorflow.org/guide/function#controlling_retracing and https://www.tensorflow.org/api_docs/python/tf/function for  more details.\n"
     ]
    },
    {
     "data": {
      "application/vnd.jupyter.widget-view+json": {
       "model_id": "87c9cfa279ba474f939d724a8a158b2d",
       "version_major": 2,
       "version_minor": 0
      },
      "text/plain": [
       "HTML(value='<b><font color=green>Positive</b>')"
      ]
     },
     "metadata": {},
     "output_type": "display_data"
    }
   ],
   "source": [
    "binary_label = widgets.HTML(value='<h1>The predicted positive or negative outlook based on the binary model is:</h1>')\n",
    "display(binary_label)\n",
    "actual_data = get_week()\n",
    "binary_predictor = make_model('sigmoid')\n",
    "binary_predictor.set_weights(binary_model.get_weights())\n",
    "pred_binary = binary_predictor.predict(np.array([binary_data,]))\n",
    "pred_binary = 1 if pred_binary[0][0] > .5 else 0\n",
    "pt = \"Positive\" if pred_binary==1 else \"Negative\"\n",
    "pc = 'green' if pred_binary==1 else 'red'\n",
    "binary_label1 = widgets.HTML(value = f\"<h1><font color={pc}>{pt}</h1>\")\n",
    "display(binary_label1)"
   ]
  },
  {
   "cell_type": "code",
   "execution_count": 44,
   "id": "22d2073b",
   "metadata": {},
   "outputs": [
    {
     "data": {
      "application/vnd.jupyter.widget-view+json": {
       "model_id": "db192a6cd6314c729f63e3af5c2f4376",
       "version_major": 2,
       "version_minor": 0
      },
      "text/plain": [
       "HTML(value='<h3>Input your current bitcoin holdings in BTC:</h3>')"
      ]
     },
     "metadata": {},
     "output_type": "display_data"
    },
    {
     "data": {
      "application/vnd.jupyter.widget-view+json": {
       "model_id": "2e12dd37ac5e494d9e5c0a2afdf6c1ef",
       "version_major": 2,
       "version_minor": 0
      },
      "text/plain": [
       "FloatText(value=0.0)"
      ]
     },
     "metadata": {},
     "output_type": "display_data"
    }
   ],
   "source": [
    "holdings_label = widgets.HTML(value='<h3>Input your current bitcoin holdings in BTC:</h3>')\n",
    "display(holdings_label)\n",
    "holdings_input = widgets.FloatText()\n",
    "display(holdings_input)\n",
    "holdings_label1 = widgets.HTML(value=f'<h3>After {days.value}</h3>')\n",
    "holdings_button = widgets.button"
   ]
  }
 ],
 "metadata": {
  "kernelspec": {
   "display_name": "Python 3",
   "language": "python",
   "name": "python3"
  },
  "language_info": {
   "codemirror_mode": {
    "name": "ipython",
    "version": 3
   },
   "file_extension": ".py",
   "mimetype": "text/x-python",
   "name": "python",
   "nbconvert_exporter": "python",
   "pygments_lexer": "ipython3",
   "version": "3.8.9"
  }
 },
 "nbformat": 4,
 "nbformat_minor": 5
}
